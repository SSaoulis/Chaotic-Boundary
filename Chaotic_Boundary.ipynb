{
  "nbformat": 4,
  "nbformat_minor": 0,
  "metadata": {
    "colab": {
      "provenance": [],
      "gpuType": "V100",
      "machine_shape": "hm"
    },
    "kernelspec": {
      "name": "python3",
      "display_name": "Python 3"
    },
    "language_info": {
      "name": "python"
    },
    "accelerator": "GPU"
  },
  "cells": [
    {
      "cell_type": "code",
      "execution_count": null,
      "metadata": {
        "id": "FzKd8fkMWjXP"
      },
      "outputs": [],
      "source": [
        "import jax\n",
        "import jax.numpy as jnp"
      ]
    },
    {
      "cell_type": "code",
      "source": [
        "target_dim = 1\n",
        "width = 16\n",
        "depth = 2\n",
        "\n",
        "@jax.jit\n",
        "def convergence_measure(v, max_val = 1e6):\n",
        "  \"\"\"\n",
        "  turn the training trajectory into a single number which looks pretty in an\n",
        "  image\n",
        "  \"\"\"\n",
        "\n",
        "  fin = jnp.isfinite(v)\n",
        "  v = v*fin + max_val*(1-fin)\n",
        "\n",
        "  v /= v[0]\n",
        "  exceeds = (v > max_val)\n",
        "  v = v*(1-exceeds) + max_val*exceeds\n",
        "\n",
        "  converged = (jnp.mean(v[-20:]) < 1) # average over any oscillatory behavior\n",
        "  return jnp.where(converged, -jnp.sum(v), jnp.sum(1/v))\n",
        "\n",
        "# jit and vectorise the convergence measure\n",
        "convergence_measure_vmap = jax.jit(jax.vmap(convergence_measure, in_axes=(0,), out_axes=0))\n",
        "\n",
        "def net(theta, X):\n",
        "  for W in theta:\n",
        "    Z = jnp.dot(X, W)/jnp.sqrt(W.shape[0])\n",
        "    X = jax.nn.tanh(Z*jnp.sqrt(2))\n",
        "  return Z /jnp.sqrt(W.shape[0])\n",
        "\n",
        "def init(rng, width, depth):\n",
        "  rng = jax.random.split(rng, depth)\n",
        "  theta = []\n",
        "  out_width = width\n",
        "  for i in range(depth):\n",
        "    if i ==depth-1:\n",
        "      out_width = target_dim\n",
        "    W = jax.random.normal(rng[i], (width, out_width))\n",
        "    theta.append(W)\n",
        "  return theta\n",
        "\n",
        "def loss(theta, X, Y):\n",
        "  Z = net(theta, X)\n",
        "  return jnp.mean((Z-Y)**2) # MSE Loss function\n",
        "\n",
        "def hparams_f(hparams, theta):\n",
        "  \"\"\"\n",
        "  convert hyperparameters into a learning rate for each layer in the network\n",
        "  \"\"\"\n",
        "  lr = []\n",
        "  for i, t in enumerate(theta):\n",
        "    lr.append(hparams[i%len(hparams)])\n",
        "  return lr\n",
        "\n",
        "def train_step(rng, theta, hparams, X, Y):\n",
        "  learning_rates = hparams_f(hparams, theta)\n",
        "  _loss, _grad  = jax.value_and_grad(loss)(theta, X, Y)\n",
        "  return jax.tree_map(lambda t, g, lr: t-lr*g, theta, _grad, learning_rates), _loss\n",
        "\n",
        "train_step_lrvmap = jax.jit(\n",
        "    jax.vmap(train_step, in_axes=(None, 0, 0, None, None), out_axes=(0,0)),\n",
        "    donate_argnums=(0,1))\n",
        "\n",
        "\n",
        "def train(theta, hparams, X, Y, num_steps, outer_batch_size=50000):\n",
        "  bs = hparams.shape[0]\n",
        "\n",
        "  if bs > outer_batch_size:\n",
        "    # split up the hyperparameter search grid if we would run out of memory\n",
        "    return jnp.concatenate(\n",
        "        (train(theta, hparams[:bs//2], X, Y, num_steps),\n",
        "        train(theta, hparams[bs//2:], X, Y, num_steps)),\n",
        "        axis=0)\n",
        "\n",
        "  rng = jax.random.PRNGKey(1337)\n",
        "  rng = jax.random.split(rng, num_steps)\n",
        "\n",
        "  losses = []\n",
        "  _theta = jax.tree_map(lambda u: jnp.tile(u, (bs,) + (1,)*len(u.shape)), theta)\n",
        "  for _rng in rng:\n",
        "    _theta, _loss = train_step_lrvmap(_rng, _theta, hparams, X, Y)\n",
        "    losses.append(_loss)\n",
        "\n",
        "  return convergence_measure_vmap(jnp.stack(losses, axis=-1))"
      ],
      "metadata": {
        "id": "wfDRhxaqXW40"
      },
      "execution_count": null,
      "outputs": []
    },
    {
      "cell_type": "code",
      "source": [
        "def gen_img(mnmx, dataset_param_multiple=0.5, opt_steps=500, resolution=512):\n",
        "  \"\"\"\n",
        "  generate an image of the hyperparameter landscape,\n",
        "  for a range of hyperparameter values specified by mnmx\n",
        "  \"\"\"\n",
        "\n",
        "  mn1, mx1, mn2, mx2 = mnmx\n",
        "  rng = jax.random.PRNGKey(0)\n",
        "  rng, srng = jax.random.split(rng)\n",
        "  theta = init(srng, width, depth)\n",
        "\n",
        "  n_params = jnp.sum(jnp.array(jax.tree_map(lambda u: u.size, theta)))\n",
        "\n",
        "  rng, srng = jax.random.split(rng)\n",
        "\n",
        "\n",
        "  batch_size = int(n_params*dataset_param_multiple/target_dim)\n",
        "\n",
        "  X = jax.random.normal(srng, (batch_size, width))\n",
        "  rng, srng = jax.random.split(rng)\n",
        "  Y = jax.random.normal(srng, (batch_size, target_dim))\n",
        "\n",
        "  gg1 = jnp.logspace(mn1, mx1, resolution)\n",
        "  gg2 = jnp.logspace(mn2, mx2, resolution)\n",
        "\n",
        "  # return\n",
        "  lr0, lr1 = jnp.meshgrid(gg2, gg1)\n",
        "  lr = jnp.stack([lr0.ravel(), lr1.ravel()], axis=-1)\n",
        "\n",
        "  V = train(theta, lr, X, Y, opt_steps)\n",
        "\n",
        "  return V.reshape((resolution, resolution))\n",
        "\n",
        "def cdf_img(x, x_ref, buffer=0.25):\n",
        "  \"\"\"\n",
        "  rescale x, relative to x_ref (x_ref is often the same as x), to achieve a uniform\n",
        "  distribution over values with positive and negative intensities, but also to\n",
        "  preserve the sign of x. This makes for a visualization that shows more\n",
        "  structure.\n",
        "  \"\"\"\n",
        "\n",
        "  u = jnp.sort(x_ref.ravel())\n",
        "\n",
        "\n",
        "  num_neg = jnp.sum(u<0)\n",
        "  num_nonneg = u.shape[0] - num_neg\n",
        "  v = jnp.concatenate((jnp.linspace(-1,-buffer,num_neg), jnp.linspace(buffer,1,num_nonneg)), axis=0)\n",
        "\n",
        "\n",
        "  y = jnp.interp(x, u, v)\n",
        "  return -y"
      ],
      "metadata": {
        "id": "qUF1osuNiG1D"
      },
      "execution_count": null,
      "outputs": []
    },
    {
      "cell_type": "code",
      "source": [
        "from google.colab import drive\n",
        "drive.mount('/content/drive')\n"
      ],
      "metadata": {
        "colab": {
          "base_uri": "https://localhost:8080/"
        },
        "id": "uPVACPu6u8ws",
        "outputId": "593b0aec-c721-49a7-a848-b8b9cd30db3a"
      },
      "execution_count": null,
      "outputs": [
        {
          "output_type": "stream",
          "name": "stdout",
          "text": [
            "Mounted at /content/drive\n"
          ]
        }
      ]
    },
    {
      "cell_type": "code",
      "source": [
        "def plot_imshow(img, x_range, y_range, filename=None):\n",
        "  plt.imshow(img_3, extent=(mnx, mxx, mny, mxy), aspect='auto', cmap='plasma')\n",
        "  plt.grid(False)\n",
        "\n",
        "\n",
        "  def format_tick_label(value):\n",
        "      return r\"$10^{{{:.3g}}}$\".format(value)\n",
        "\n",
        "  x_ticks = [mnx, mxx]\n",
        "  y_ticks = [mny, mxy]\n",
        "\n",
        "  plt.xticks(x_ticks, [format_tick_label(x) for x in x_ticks])\n",
        "  plt.yticks(y_ticks, [format_tick_label(y) for y in y_ticks])\n",
        "  plt.xlabel(\"Input learning rate\")\n",
        "  plt.ylabel(\"Output learning rate\")\n",
        "\n",
        "  plt.tick_params(axis='both',\n",
        "                  which='major',\n",
        "                  direction='in',\n",
        "                  length=10,\n",
        "                  width=3,\n",
        "                  colors='black',\n",
        "                  pad=5,\n",
        "                  labelsize=10,\n",
        "                  labelcolor='black',\n",
        "                  bottom=True, top=True, left=True, right=True,\n",
        "                  labelbottom=True, labeltop=False,\n",
        "                  labelleft=True, labelright=False)\n",
        "\n",
        "\n",
        "  font = {\n",
        "      'weight': 'normal',\n",
        "      'size': 14,\n",
        "  }\n",
        "\n",
        "\n",
        "  plt.xlabel('Input layer learning rate', fontdict=font)\n",
        "  plt.ylabel('Output layer learning rate', fontdict=font)\n",
        "\n",
        "  # Ensure the plot is enclosed in a square border\n",
        "  plt.gca().set_frame_on(True)\n",
        "\n",
        "  if filename:\n",
        "    plt.savefig(f\"/content/drive/My Drive/ChaosImages/{filename}.png\", transparent=True, dpi=800)\n",
        "\n",
        "  plt.show()\n",
        "  plt.draw()"
      ],
      "metadata": {
        "id": "FKTQ8kKUCDOr"
      },
      "execution_count": null,
      "outputs": []
    },
    {
      "cell_type": "code",
      "source": [
        "import matplotlib.pyplot as plt\n",
        "import matplotlib.ticker as ticker\n",
        "import numpy as np\n",
        "import seaborn as sns\n",
        "sns.set_theme()"
      ],
      "metadata": {
        "id": "Lxw2VaGUUJwJ"
      },
      "execution_count": null,
      "outputs": []
    },
    {
      "cell_type": "code",
      "source": [
        "mny, mxy = 2.2, 2.6\n",
        "mnx, mxx = -5, -4\n",
        "\n",
        "mnmx = mny, mxy, mnx, mxx\n",
        "img = gen_img(mnmx, resolution = 2048)\n",
        "\n",
        "\n",
        "img_2 = cdf_img(img, img, )\n",
        "img_3 = np.flipud(img_2)"
      ],
      "metadata": {
        "id": "KN-_atkHiMaC"
      },
      "execution_count": null,
      "outputs": []
    },
    {
      "cell_type": "code",
      "source": [
        "plot_imshow(img_3, (mnx, mxx), (mny, mxy))"
      ],
      "metadata": {
        "colab": {
          "base_uri": "https://localhost:8080/",
          "height": 481
        },
        "id": "6fGIC-MtUSpb",
        "outputId": "b4cfbd30-bf08-4253-8895-e7f3280e1d75"
      },
      "execution_count": null,
      "outputs": [
        {
          "output_type": "display_data",
          "data": {
            "text/plain": [
              "<Figure size 640x480 with 1 Axes>"
            ],
            "image/png": "[encoded data removed]"
          },
          "metadata": {}
        },
        {
          "output_type": "display_data",
          "data": {
            "text/plain": [
              "<Figure size 640x480 with 0 Axes>"
            ]
          },
          "metadata": {}
        }
      ]
    },
    {
      "cell_type": "code",
      "source": [
        "import PIL\n",
        "import numpy as np\n",
        "cmap = plt.get_cmap('plasma')  # You can choose any available colormap here\n",
        "img_3_normalized = (img_3 - np.min(img_3)) / (np.max(img_3) - np.min(img_3))\n",
        "\n",
        "colored_img = cmap(img_3_normalized)  # This applies the colormap to your image data\n",
        "colored_img_8bit = (colored_img * 255).astype(np.uint8)\n",
        "\n",
        "# Convert to Pillow image\n",
        "image = PIL.Image.fromarray(colored_img_8bit)\n",
        "# file_path = '/content/drive/My Drive/ChaosImages/chaos_image_zoom_top_left.png'\n",
        "# plt.savefig(file_path)\n",
        "# Save the image\n",
        "file_path = \"/content/drive/My Drive/ChaosImages/0.png\"  # Specify your file path here\n",
        "image.save(file_path)\n"
      ],
      "metadata": {
        "id": "M9riIscNyjCW"
      },
      "execution_count": null,
      "outputs": []
    }
  ]
}